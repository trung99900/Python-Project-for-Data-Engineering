{
 "cells": [
  {
   "cell_type": "markdown",
   "id": "0856682f",
   "metadata": {
    "papermill": {
     "duration": 0.005897,
     "end_time": "2022-10-14T20:07:58.820044",
     "exception": false,
     "start_time": "2022-10-14T20:07:58.814147",
     "status": "completed"
    },
    "tags": []
   },
   "source": [
    "#Data Engineer - Webscraping\n"
   ]
  },
  {
   "cell_type": "markdown",
   "id": "ca2fa2b7",
   "metadata": {
    "papermill": {
     "duration": 0.004285,
     "end_time": "2022-10-14T20:07:58.829185",
     "exception": false,
     "start_time": "2022-10-14T20:07:58.824900",
     "status": "completed"
    },
    "tags": []
   },
   "source": [
    "## Objectives\n",
    "\n",
    "In this part you will:\n",
    "\n",
    "*   Use webscraping to get bank information\n"
   ]
  },
  {
   "cell_type": "markdown",
   "id": "c287d218",
   "metadata": {
    "papermill": {
     "duration": 0.004217,
     "end_time": "2022-10-14T20:07:58.838034",
     "exception": false,
     "start_time": "2022-10-14T20:07:58.833817",
     "status": "completed"
    },
    "tags": []
   },
   "source": [
    "For this lab, we are going to be using Python and several Python libraries. Some of these libraries might be installed in your lab environment or in SN Labs. Others may need to be installed by you. The cells below will install these libraries when executed.\n"
   ]
  },
  {
   "cell_type": "code",
   "execution_count": 1,
   "id": "18aac371",
   "metadata": {
    "execution": {
     "iopub.execute_input": "2022-10-14T20:07:58.849082Z",
     "iopub.status.busy": "2022-10-14T20:07:58.848587Z",
     "iopub.status.idle": "2022-10-14T20:08:01.016389Z",
     "shell.execute_reply": "2022-10-14T20:08:01.015173Z"
    },
    "papermill": {
     "duration": 2.176618,
     "end_time": "2022-10-14T20:08:01.019145",
     "exception": false,
     "start_time": "2022-10-14T20:07:58.842527",
     "status": "completed"
    },
    "tags": []
   },
   "outputs": [
    {
     "name": "stdout",
     "output_type": "stream",
     "text": [
      "/bin/bash: mamba: command not found\r\n",
      "/bin/bash: mamba: command not found\r\n"
     ]
    }
   ],
   "source": [
    "#!mamba install pandas==1.3.3 -y\n",
    "#!mamba install requests==2.26.0 -y\n",
    "!mamba install bs4==4.10.0 -y\n",
    "!mamba install html5lib==1.1 -y"
   ]
  },
  {
   "cell_type": "markdown",
   "id": "356a9825",
   "metadata": {
    "papermill": {
     "duration": 0.004588,
     "end_time": "2022-10-14T20:08:01.029562",
     "exception": false,
     "start_time": "2022-10-14T20:08:01.024974",
     "status": "completed"
    },
    "tags": []
   },
   "source": [
    "## Imports\n",
    "\n",
    "Import any additional libraries you may need here.\n"
   ]
  },
  {
   "cell_type": "code",
   "execution_count": 2,
   "id": "f3649b26",
   "metadata": {
    "execution": {
     "iopub.execute_input": "2022-10-14T20:08:01.041760Z",
     "iopub.status.busy": "2022-10-14T20:08:01.041318Z",
     "iopub.status.idle": "2022-10-14T20:08:01.242536Z",
     "shell.execute_reply": "2022-10-14T20:08:01.241105Z"
    },
    "papermill": {
     "duration": 0.210457,
     "end_time": "2022-10-14T20:08:01.245245",
     "exception": false,
     "start_time": "2022-10-14T20:08:01.034788",
     "status": "completed"
    },
    "tags": []
   },
   "outputs": [],
   "source": [
    "import requests\n",
    "from bs4 import BeautifulSoup\n",
    "import pandas as pd"
   ]
  },
  {
   "cell_type": "markdown",
   "id": "f537001d",
   "metadata": {
    "papermill": {
     "duration": 0.004518,
     "end_time": "2022-10-14T20:08:01.254792",
     "exception": false,
     "start_time": "2022-10-14T20:08:01.250274",
     "status": "completed"
    },
    "tags": []
   },
   "source": [
    "## Extract Data Using Web Scraping\n"
   ]
  },
  {
   "cell_type": "markdown",
   "id": "ed72e54e",
   "metadata": {
    "papermill": {
     "duration": 0.004465,
     "end_time": "2022-10-14T20:08:01.264027",
     "exception": false,
     "start_time": "2022-10-14T20:08:01.259562",
     "status": "completed"
    },
    "tags": []
   },
   "source": [
    "The wikipedia webpage [https://en.wikipedia.org/wiki/List_of_largest_banks](https://en.wikipedia.org/wiki/List_of_largest_banks?utm_medium=Exinfluencer&utm_source=Exinfluencer&utm_content=000026UJ&utm_term=10006555&utm_id=NA-SkillsNetwork-Channel-SkillsNetworkCoursesIBMDeveloperSkillsNetworkPY0221ENSkillsNetwork23455645-2022-01-01) provides information about largest banks in the world by various parameters. Scrape the data from the table 'By market capitalization' and store it in a JSON file.\n"
   ]
  },
  {
   "cell_type": "markdown",
   "id": "f7e0bf18",
   "metadata": {
    "papermill": {
     "duration": 0.004399,
     "end_time": "2022-10-14T20:08:01.273158",
     "exception": false,
     "start_time": "2022-10-14T20:08:01.268759",
     "status": "completed"
    },
    "tags": []
   },
   "source": [
    "### Webpage Contents\n",
    "\n",
    "Gather the contents of the webpage in text format using the `requests` library and assign it to the variable <code>html_data</code>\n"
   ]
  },
  {
   "cell_type": "code",
   "execution_count": 3,
   "id": "31024b3c",
   "metadata": {
    "execution": {
     "iopub.execute_input": "2022-10-14T20:08:01.284815Z",
     "iopub.status.busy": "2022-10-14T20:08:01.283913Z",
     "iopub.status.idle": "2022-10-14T20:08:01.657960Z",
     "shell.execute_reply": "2022-10-14T20:08:01.656589Z"
    },
    "papermill": {
     "duration": 0.382668,
     "end_time": "2022-10-14T20:08:01.660552",
     "exception": false,
     "start_time": "2022-10-14T20:08:01.277884",
     "status": "completed"
    },
    "tags": []
   },
   "outputs": [],
   "source": [
    "\n",
    "URL = \"https://en.wikipedia.org/wiki/List_of_largest_banks\"\n",
    "html_data = requests.get(URL).text\n"
   ]
  },
  {
   "cell_type": "markdown",
   "id": "fd8f2601",
   "metadata": {
    "papermill": {
     "duration": 0.004455,
     "end_time": "2022-10-14T20:08:01.669894",
     "exception": false,
     "start_time": "2022-10-14T20:08:01.665439",
     "status": "completed"
    },
    "tags": []
   },
   "source": [
    "<b>Question 1</b> Print out the output of the following line, and remember it as it will be a quiz question:\n"
   ]
  },
  {
   "cell_type": "code",
   "execution_count": 4,
   "id": "26d721fa",
   "metadata": {
    "execution": {
     "iopub.execute_input": "2022-10-14T20:08:01.681157Z",
     "iopub.status.busy": "2022-10-14T20:08:01.680720Z",
     "iopub.status.idle": "2022-10-14T20:08:01.689594Z",
     "shell.execute_reply": "2022-10-14T20:08:01.688557Z"
    },
    "papermill": {
     "duration": 0.017221,
     "end_time": "2022-10-14T20:08:01.691795",
     "exception": false,
     "start_time": "2022-10-14T20:08:01.674574",
     "status": "completed"
    },
    "tags": []
   },
   "outputs": [
    {
     "data": {
      "text/plain": [
       "'List of largest banks -'"
      ]
     },
     "execution_count": 4,
     "metadata": {},
     "output_type": "execute_result"
    }
   ],
   "source": [
    "html_data[101:124]"
   ]
  },
  {
   "cell_type": "markdown",
   "id": "8171af00",
   "metadata": {
    "papermill": {
     "duration": 0.004681,
     "end_time": "2022-10-14T20:08:01.701411",
     "exception": false,
     "start_time": "2022-10-14T20:08:01.696730",
     "status": "completed"
    },
    "tags": []
   },
   "source": [
    "### Scraping the Data\n",
    "\n",
    "<b> Question 2</b> Using the contents and `beautiful soup` load the data from the `By market capitalization` table into a `pandas` dataframe. The dataframe should have the bank `Name` and `Market Cap (US$ Billion)` as column names.  Display the first five rows using head.\n"
   ]
  },
  {
   "cell_type": "markdown",
   "id": "2b5205dd",
   "metadata": {
    "papermill": {
     "duration": 0.004543,
     "end_time": "2022-10-14T20:08:01.710842",
     "exception": false,
     "start_time": "2022-10-14T20:08:01.706299",
     "status": "completed"
    },
    "tags": []
   },
   "source": [
    "Using BeautifulSoup parse the contents of the webpage.\n"
   ]
  },
  {
   "cell_type": "code",
   "execution_count": 5,
   "id": "6007e914",
   "metadata": {
    "execution": {
     "iopub.execute_input": "2022-10-14T20:08:01.723344Z",
     "iopub.status.busy": "2022-10-14T20:08:01.722854Z",
     "iopub.status.idle": "2022-10-14T20:08:01.832990Z",
     "shell.execute_reply": "2022-10-14T20:08:01.831902Z"
    },
    "papermill": {
     "duration": 0.118946,
     "end_time": "2022-10-14T20:08:01.835748",
     "exception": false,
     "start_time": "2022-10-14T20:08:01.716802",
     "status": "completed"
    },
    "tags": []
   },
   "outputs": [],
   "source": [
    "\n",
    "soup=BeautifulSoup(html_data,'html.parser')"
   ]
  },
  {
   "cell_type": "markdown",
   "id": "ea0c8310",
   "metadata": {
    "papermill": {
     "duration": 0.0046,
     "end_time": "2022-10-14T20:08:01.845291",
     "exception": false,
     "start_time": "2022-10-14T20:08:01.840691",
     "status": "completed"
    },
    "tags": []
   },
   "source": [
    "Load the data from the `By market capitalization` table into a pandas dataframe. The dataframe should have the bank `Name` and `Market Cap (US$ Billion)` as column names. Using the empty dataframe `data` and the given loop extract the necessary data from each row and append it to the empty dataframe.\n"
   ]
  },
  {
   "cell_type": "code",
   "execution_count": 6,
   "id": "863e5784",
   "metadata": {
    "execution": {
     "iopub.execute_input": "2022-10-14T20:08:01.857473Z",
     "iopub.status.busy": "2022-10-14T20:08:01.856342Z",
     "iopub.status.idle": "2022-10-14T20:08:01.966183Z",
     "shell.execute_reply": "2022-10-14T20:08:01.965255Z"
    },
    "papermill": {
     "duration": 0.118755,
     "end_time": "2022-10-14T20:08:01.968866",
     "exception": false,
     "start_time": "2022-10-14T20:08:01.850111",
     "status": "completed"
    },
    "tags": []
   },
   "outputs": [],
   "source": [
    "data = pd.DataFrame(columns=[\"Name\", \"Market Cap (US$ Billion)\"])\n",
    "\n",
    "for row in soup.find_all('tbody')[3].find_all('tr'):\n",
    "    col = row.find_all(\"td\")\n",
    "    #have to make sure there is no empty tr\n",
    "    if len(col)==3:\n",
    "        Bank_Name = col[1].text.strip()\n",
    "        Market_Cap = col[2].text.strip()\n",
    "        #finally we append the data of each row to the talbe\n",
    "        data = data.append({\"Name\":Bank_Name,\"Market Cap (US$ Billion)\":Market_Cap},ignore_index=True)\n",
    "    "
   ]
  },
  {
   "cell_type": "markdown",
   "id": "36729763",
   "metadata": {
    "papermill": {
     "duration": 0.004615,
     "end_time": "2022-10-14T20:08:01.978565",
     "exception": false,
     "start_time": "2022-10-14T20:08:01.973950",
     "status": "completed"
    },
    "tags": []
   },
   "source": [
    "**Question 3** Display the first five rows using the `head` function.\n"
   ]
  },
  {
   "cell_type": "code",
   "execution_count": 7,
   "id": "4834f21a",
   "metadata": {
    "execution": {
     "iopub.execute_input": "2022-10-14T20:08:01.990111Z",
     "iopub.status.busy": "2022-10-14T20:08:01.989700Z",
     "iopub.status.idle": "2022-10-14T20:08:02.005563Z",
     "shell.execute_reply": "2022-10-14T20:08:02.004548Z"
    },
    "papermill": {
     "duration": 0.024629,
     "end_time": "2022-10-14T20:08:02.008059",
     "exception": false,
     "start_time": "2022-10-14T20:08:01.983430",
     "status": "completed"
    },
    "tags": []
   },
   "outputs": [
    {
     "data": {
      "text/html": [
       "<div>\n",
       "<style scoped>\n",
       "    .dataframe tbody tr th:only-of-type {\n",
       "        vertical-align: middle;\n",
       "    }\n",
       "\n",
       "    .dataframe tbody tr th {\n",
       "        vertical-align: top;\n",
       "    }\n",
       "\n",
       "    .dataframe thead th {\n",
       "        text-align: right;\n",
       "    }\n",
       "</style>\n",
       "<table border=\"1\" class=\"dataframe\">\n",
       "  <thead>\n",
       "    <tr style=\"text-align: right;\">\n",
       "      <th></th>\n",
       "      <th>Name</th>\n",
       "      <th>Market Cap (US$ Billion)</th>\n",
       "    </tr>\n",
       "  </thead>\n",
       "  <tbody>\n",
       "    <tr>\n",
       "      <th>0</th>\n",
       "      <td>JPMorgan Chase</td>\n",
       "      <td>400.37[6]</td>\n",
       "    </tr>\n",
       "    <tr>\n",
       "      <th>1</th>\n",
       "      <td>Industrial and Commercial Bank of China</td>\n",
       "      <td>295.65</td>\n",
       "    </tr>\n",
       "    <tr>\n",
       "      <th>2</th>\n",
       "      <td>Bank of America</td>\n",
       "      <td>279.73</td>\n",
       "    </tr>\n",
       "    <tr>\n",
       "      <th>3</th>\n",
       "      <td>Wells Fargo</td>\n",
       "      <td>214.34</td>\n",
       "    </tr>\n",
       "    <tr>\n",
       "      <th>4</th>\n",
       "      <td>China Construction Bank</td>\n",
       "      <td>207.98</td>\n",
       "    </tr>\n",
       "  </tbody>\n",
       "</table>\n",
       "</div>"
      ],
      "text/plain": [
       "                                      Name Market Cap (US$ Billion)\n",
       "0                           JPMorgan Chase                400.37[6]\n",
       "1  Industrial and Commercial Bank of China                   295.65\n",
       "2                          Bank of America                   279.73\n",
       "3                              Wells Fargo                   214.34\n",
       "4                  China Construction Bank                   207.98"
      ]
     },
     "execution_count": 7,
     "metadata": {},
     "output_type": "execute_result"
    }
   ],
   "source": [
    "#Write your code here\n",
    "data.head(5)"
   ]
  },
  {
   "cell_type": "markdown",
   "id": "227ac2d4",
   "metadata": {
    "papermill": {
     "duration": 0.004745,
     "end_time": "2022-10-14T20:08:02.018025",
     "exception": false,
     "start_time": "2022-10-14T20:08:02.013280",
     "status": "completed"
    },
    "tags": []
   },
   "source": [
    "### Loading the Data\n",
    "\n",
    "Usually you will Load the `pandas` dataframe created above into a JSON named `bank_market_cap.json` using the `to_json()` function, but this time the data will be sent to another team who will split the data file into two files and inspect it. If you save the data it will interfere with the next part of the assignment.\n"
   ]
  },
  {
   "cell_type": "code",
   "execution_count": 8,
   "id": "bf820eb7",
   "metadata": {
    "execution": {
     "iopub.execute_input": "2022-10-14T20:08:02.029840Z",
     "iopub.status.busy": "2022-10-14T20:08:02.029451Z",
     "iopub.status.idle": "2022-10-14T20:08:02.035649Z",
     "shell.execute_reply": "2022-10-14T20:08:02.034478Z"
    },
    "papermill": {
     "duration": 0.01492,
     "end_time": "2022-10-14T20:08:02.038014",
     "exception": false,
     "start_time": "2022-10-14T20:08:02.023094",
     "status": "completed"
    },
    "tags": []
   },
   "outputs": [],
   "source": [
    "#Write your code here\n",
    "data.to_json('bank_market_cap.json',orient = 'records',indent=5)"
   ]
  }
 ],
 "metadata": {
  "kernelspec": {
   "display_name": "Python 3",
   "language": "python",
   "name": "python3"
  },
  "language_info": {
   "codemirror_mode": {
    "name": "ipython",
    "version": 3
   },
   "file_extension": ".py",
   "mimetype": "text/x-python",
   "name": "python",
   "nbconvert_exporter": "python",
   "pygments_lexer": "ipython3",
   "version": "3.7.12"
  },
  "papermill": {
   "default_parameters": {},
   "duration": 13.937901,
   "end_time": "2022-10-14T20:08:02.764182",
   "environment_variables": {},
   "exception": null,
   "input_path": "__notebook__.ipynb",
   "output_path": "__notebook__.ipynb",
   "parameters": {},
   "start_time": "2022-10-14T20:07:48.826281",
   "version": "2.3.4"
  }
 },
 "nbformat": 4,
 "nbformat_minor": 5
}
